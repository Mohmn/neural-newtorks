{
 "cells": [
  {
   "cell_type": "code",
   "execution_count": 1,
   "metadata": {},
   "outputs": [],
   "source": [
    "import numpy as np\n",
    "#from time import time\n",
    "import os\n",
    "from PIL import Image\n",
    "import random\n",
    "import matplotlib.pyplot as plt"
   ]
  },
  {
   "cell_type": "code",
   "execution_count": 2,
   "metadata": {},
   "outputs": [],
   "source": [
    "def relu(mat):\n",
    "    return(np.multiply(mat,np.where(mat>=0,1,0)))\n",
    "\n",
    "def sigmoid(Z):\n",
    "    return 1/(1+np.exp(-Z))\n",
    "\n",
    "def sigmoid_backward(A):\n",
    "    da = sigmoid(A)\n",
    "    return da*(1-da)\n",
    "def relu_backward(A):\n",
    "    return np.where(A>=0,1,0)"
   ]
  },
  {
   "cell_type": "code",
   "execution_count": 20,
   "metadata": {},
   "outputs": [],
   "source": [
    "def data(path):\n",
    "\n",
    "    os.chdir(path)\n",
    "    #os.chdir(\"cats\")\n",
    "    aa=[\"cats\",\"dogs\"]\n",
    "    training_data=[]\n",
    "\n",
    "    #print(X)\n",
    "    for a in aa:\n",
    "        path = os.path.join(os.getcwd(),a)\n",
    "        ind = aa.index(a) \n",
    "        print(path)\n",
    "        for img in os.listdir(path):\n",
    "            try:\n",
    "\n",
    "                image  = Image.open(os.path.join(path,img))\n",
    "                image = image.convert(\"L\")\n",
    "                image =image.resize((80,80))\n",
    "                \n",
    "                image = np.array(image)\n",
    "                training_data.append([image,ind])\n",
    "            except IOError:\n",
    "                pass\n",
    "    \n",
    "    random.shuffle(training_data)\n",
    "    X=[]\n",
    "    Y=[]\n",
    "    for x,y in training_data:\n",
    "        X.append(x)\n",
    "        Y.append(y)\n",
    "    X=np.array(X)\n",
    "    Y = np.array(Y)\n",
    "    \n",
    "    #X=X.reshape(X.shape[1], X.shape[2],X.shape[0])\n",
    "    \n",
    "    Y=Y.reshape(Y.shape[0],1)\n",
    "  \n",
    "\n",
    "          \n",
    "    return X,Y"
   ]
  },
  {
   "cell_type": "code",
   "execution_count": 27,
   "metadata": {},
   "outputs": [
    {
     "name": "stdout",
     "output_type": "stream",
     "text": [
      "C:\\Users\\LAPY\n",
      "C:\\Users\\LAPY\\Desktop\\cat-and-dog\\training_set\\cats\n",
      "C:\\Users\\LAPY\\Desktop\\cat-and-dog\\training_set\\dogs\n",
      "(8005, 80, 80) (8005, 1)\n",
      "done\n"
     ]
    }
   ],
   "source": [
    "#os.chdir(\"../../../\")\n",
    "\n",
    "print(os.getcwd())\n",
    "\n",
    "\n",
    "X_train,Y_train = data(\"Desktop/cat-and-dog/training_set\")\n",
    "print(X_train.shape,Y_train.shape)\n",
    "X_train=X_train/255\n",
    "print(\"done\")"
   ]
  },
  {
   "cell_type": "code",
   "execution_count": 29,
   "metadata": {},
   "outputs": [
    {
     "name": "stdout",
     "output_type": "stream",
     "text": [
      "C:\\Users\\LAPY\\Desktop\n",
      "C:\\Users\\LAPY\\Desktop\\cat-and-dog\\test_set\\test_set\\cats\n",
      "C:\\Users\\LAPY\\Desktop\\cat-and-dog\\test_set\\test_set\\dogs\n",
      "(2023, 80, 80) (2023, 1)\n"
     ]
    }
   ],
   "source": [
    "#os.chdir(\"../../\")\n",
    "\n",
    "print(os.getcwd())\n",
    "\n",
    "\n",
    "X_test,Y_test = data(\"cat-and-dog/test_set/test_set\")\n",
    "print(X_test.shape,Y_test.shape)\n",
    "X_test=X_test/255"
   ]
  },
  {
   "cell_type": "code",
   "execution_count": 30,
   "metadata": {},
   "outputs": [],
   "source": [
    "def compute_cost(AL,Y):\n",
    "\n",
    "    m =Y.shape[0]\n",
    "    \n",
    "    cost = np.sum(np.multiply(Y,np.log(AL)),axis=1,keepdims=True) + np.sum(np.multiply(1-Y,np.log(1-AL)),axis=1,keepdims=True)\n",
    "   # print(cost.shape)\n",
    "    cost=np.sum(cost)\n",
    "    #print(cost)\n",
    "    cost = cost/-m  \n",
    "    \n",
    "    cost = np.squeeze(cost) #(will turn [[13]] -> 13)\n",
    "    \n",
    "    assert(cost.shape == ())\n",
    "    return cost"
   ]
  },
  {
   "cell_type": "code",
   "execution_count": 7,
   "metadata": {},
   "outputs": [],
   "source": [
    "def d_conv(imag,filt,stride,pad):\n",
    "    cnv_0 = imag.shape[0]\n",
    "    cnv_1 = ((imag.shape[1] + 2*pad) - filt.shape[1])//stride + 1\n",
    "    cnv_2 = ((imag.shape[2] + 2*pad) - filt.shape[2])//stride + 1\n",
    "    \n",
    "    b = np.zeros((filt.shape[1]*filt.shape[2],cnv_1*cnv_2*cnv_0),dtype=\"float64\")\n",
    "    print(b.shape,filt.shape)\n",
    "    #return\n",
    "    z=0\n",
    "    for t in range(cnv_0):\n",
    "        for i in range(cnv_1):\n",
    "            v_start = i * stride\n",
    "            v_end = v_start + filt.shape[1]\n",
    "            for j in range(cnv_2):\n",
    "\n",
    "\n",
    "                h_start = j * stride\n",
    "                h_end = h_start + filt.shape[2]\n",
    "\n",
    "                b[:,z] = imag[t,v_start:v_end,h_start:h_end].flatten()\n",
    "\n",
    "                z+=1\n",
    "    b=np.reshape(b,(b.shape[0],cnv_1*cnv_2*cnv_0))\n",
    "    b=np.dot(np.reshape(filt,(filt.shape[0]*filt.shape[1]*filt.shape[2],1)).T,b)\n",
    "    #print(b.shape)\n",
    "    #return\n",
    "    return np.reshape(b,(cnv_0,cnv_1,cnv_2)) \n",
    "\n"
   ]
  },
  {
   "cell_type": "code",
   "execution_count": 8,
   "metadata": {},
   "outputs": [],
   "source": [
    "def dd_max_pool(imag,stride,filt,d):\n",
    "    cnv_0 = imag.shape[0]\n",
    "    cnv_1 = (imag.shape[1] - filt[0])//stride + 1\n",
    "    cnv_2 = (imag.shape[2] - filt[1])//stride + 1\n",
    "    \n",
    "    #pool = np.zeros((filt[0]*filt[1],cnv_1*cnv_2),dtype=\"float32\")\n",
    "    der = np.zeros((imag.shape[0],imag.shape[1],imag.shape[2]),dtype=\"float64\")\n",
    "    z=0\n",
    "    for t in range(cnv_0):\n",
    "        for i in range(cnv_1):\n",
    "\n",
    "            v_start = i * stride\n",
    "            v_end = v_start + filt[0]\n",
    "            for j in range(cnv_2):\n",
    "\n",
    "\n",
    "                h_start = j * stride\n",
    "                h_end = h_start + filt[1]\n",
    "                a=imag[t,v_start:v_end,h_start:h_end]\n",
    "\n",
    "                der[t,v_start:v_end,h_start:h_end][np.argmax(a)//a.shape[1],np.argmax(a)%a.shape[0]] = d[t,i,j]\n",
    "\n",
    "    return der"
   ]
  },
  {
   "cell_type": "code",
   "execution_count": 31,
   "metadata": {},
   "outputs": [],
   "source": [
    "def init_adam_prm(parameters):\n",
    "    v,s= {},{}\n",
    "    L = len(parameters)#//2\n",
    "    for i in range(L):\n",
    "        v[\"dW\" + str(i+1)] = np.zeros(parameters[\"W\" + str(i+1)].shape)\n",
    "        #v[\"db\" + str(i+1)] = np.zeros(parameters[\"b\" + str(i+1)].shape)\n",
    "        s[\"dW\" + str(i+1)] = np.zeros(parameters[\"W\" + str(i+1)].shape)\n",
    "        #s[\"db\" + str(i+1)] = np.zeros(parameters[\"b\" + str(i+1)].shape)\n",
    "        \n",
    "    return v,s"
   ]
  },
  {
   "cell_type": "code",
   "execution_count": 32,
   "metadata": {},
   "outputs": [],
   "source": [
    "def adam_optimizer(parameters,grads,v,s,t,learning_rate=0.01,beta1=0.9,beta2=0.999,epsilon=1e-8):\n",
    "\n",
    "    v_corrected,s_corrected={},{}\n",
    "    L = len(parameters)#//2\n",
    "    for i in range(L):\n",
    "        v[\"dW\" + str(i+1)] = beta1 * v[\"dW\" + str(i+1)] + (1-beta1)*grads[\"dW\" + str(i+1)]\n",
    "        #v[\"db\" + str(i+1)] = beta1 * v[\"db\" + str(i+1)] + (1-beta1)*grads[\"db\" + str(i+1)]\n",
    "        \n",
    "        v_corrected[\"dW\" + str(i+1)] = v[\"dW\" + str(i+1)]/(1-(beta1**t))\n",
    "        #v_corrected[\"db\" + str(i+1)] = v[\"db\" + str(i+1)]/(1-(beta1**t))\n",
    "        \n",
    "        s[\"dW\" + str(i+1)] = beta2 * s[\"dW\" + str(i+1)] + (1-beta2)*(grads[\"dW\" + str(i+1)]**2)\n",
    "        #s[\"db\" + str(i+1)] = beta2 * s[\"db\" + str(i+1)] + (1-beta2)*(grads[\"db\" + str(i+1)]**2)\n",
    "        \n",
    "        s_corrected[\"dW\" + str(i+1)] = s[\"dW\" + str(i+1)]/(1-(beta2**t))\n",
    "        #s_corrected[\"db\" + str(i+1)] = s[\"db\" + str(i+1)]/(1-(beta2**t))\n",
    "        \n",
    "        parameters[\"W\" + str(i+1)] =parameters[\"W\" + str(i+1)] - (learning_rate*(v_corrected[\"dW\" + str(i+1)]/(np.sqrt(s_corrected[\"dW\" + str(i+1)])+epsilon)))\n",
    "       # parameters[\"b\" + str(i+1)] =parameters[\"b\" + str(i+1)] - (learning_rate*(v_corrected[\"db\" + str(i+1)]/(np.sqrt(s_corrected[\"db\" + str(i+1)])+epsilon)))\n",
    "    \n",
    "                                                                  \n",
    "    return parameters,v,s"
   ]
  },
  {
   "cell_type": "code",
   "execution_count": 10,
   "metadata": {},
   "outputs": [
    {
     "ename": "NameError",
     "evalue": "name 'init' is not defined",
     "output_type": "error",
     "traceback": [
      "\u001b[1;31m---------------------------------------------------------------------------\u001b[0m",
      "\u001b[1;31mNameError\u001b[0m                                 Traceback (most recent call last)",
      "\u001b[1;32m<ipython-input-10-83e34bae9b36>\u001b[0m in \u001b[0;36m<module>\u001b[1;34m()\u001b[0m\n\u001b[1;32m----> 1\u001b[1;33m \u001b[0mparameters\u001b[0m \u001b[1;33m=\u001b[0m \u001b[0minit\u001b[0m\u001b[1;33m(\u001b[0m\u001b[1;33m)\u001b[0m\u001b[1;33m\u001b[0m\u001b[0m\n\u001b[0m\u001b[0;32m      2\u001b[0m \u001b[0mm\u001b[0m\u001b[1;33m=\u001b[0m\u001b[0mY_train\u001b[0m\u001b[1;33m.\u001b[0m\u001b[0mshape\u001b[0m\u001b[1;33m[\u001b[0m\u001b[1;36m0\u001b[0m\u001b[1;33m]\u001b[0m\u001b[1;33m\u001b[0m\u001b[0m\n\u001b[0;32m      3\u001b[0m \u001b[0mcosts\u001b[0m\u001b[1;33m=\u001b[0m\u001b[1;33m[\u001b[0m\u001b[1;33m]\u001b[0m\u001b[1;33m\u001b[0m\u001b[0m\n\u001b[0;32m      4\u001b[0m \u001b[0mgrads\u001b[0m\u001b[1;33m=\u001b[0m\u001b[1;33m{\u001b[0m\u001b[1;33m}\u001b[0m\u001b[1;33m\u001b[0m\u001b[0m\n\u001b[0;32m      5\u001b[0m \u001b[0mt\u001b[0m\u001b[1;33m=\u001b[0m\u001b[1;36m0\u001b[0m\u001b[1;33m\u001b[0m\u001b[0m\n",
      "\u001b[1;31mNameError\u001b[0m: name 'init' is not defined"
     ]
    }
   ],
   "source": [
    "parameters = init()\n",
    "m=Y_train.shape[0]\n",
    "costs=[]\n",
    "grads={}\n",
    "t=0\n",
    "W1 = parameters[\"W1\"]\n",
    "W2 = parameters[\"W2\"]\n",
    "W3 = parameters[\"W3\"]\n",
    "\n",
    "v,s = init_adam_prm(parameters)\n",
    "for i in range(3001):\n",
    "    try:\n",
    "        Z1 =three_dimn_conv(X_train,W1,1,0)\n",
    "        A1=relu(Z1)\n",
    "        Z2 =three_dimn_conv(A1,W2,1,0) \n",
    "        A2=relu(Z2)\n",
    "        f_c=np.reshape(A2,(A2.shape[0],A2.shape[1]*A2.shape[2]))\n",
    "        Z3 = np.dot(f_c,W3.T)\n",
    "        A3=sigmoid(Z3)\n",
    "        cost = compute_cost(A3,Y_train)\n",
    "        costs.append(cost)\n",
    "        dZ3 = A3 - Y_train\n",
    "        dW3 = np.dot(dZ3.T,f_c)/m\n",
    "        dF_c = np.dot(dZ3,W3)\n",
    "        dA2 = np.reshape(dF_c,(A2.shape[0],A2.shape[1],A2.shape[2]))\n",
    "        dZ2 = np.multiply(dA2,relu_backward(Z2))\n",
    "        dW2 = d_three_dimn_conv(A1,dZ2,1,0)/m\n",
    "        npad = ((0, 0), (W2.shape[1]-1, W2.shape[1]-1), (W2.shape[1]-1, W2.shape[1]-1))\n",
    "        dA1 = three_dimn_conv(np.pad(dZ2,pad_width=npad,mode=\"constant\"),np.rot90(W2,2),1,0)\n",
    "        dZ1 = np.multiply(dA1,relu_backward(Z1))\n",
    "        dW1= d_three_dimn_conv(X_train,dZ1,1,0)/m\n",
    "\n",
    "\n",
    "        if i %5 == 0:\n",
    "            print(\"Cost after iteration {}: {}\".format(i, np.squeeze(cost)))\n",
    "        grads[\"dW1\"] = dW1\n",
    "        grads[\"dW2\"] = dW2\n",
    "        grads[\"dW3\"] = dW3\n",
    "        t+=1\n",
    "        parameters,v,s = adam_optimizer(parameters,grads,v,s,t,learning_rate=0.00087)\n",
    "        W1 = parameters[\"W1\"]\n",
    "        W2 = parameters[\"W2\"]\n",
    "\n",
    "        W3 = parameters[\"W3\"]\n",
    "    \n",
    "    except KeyboardInterrupt:\n",
    "        plt.plot(np.squeeze(costs))\n",
    "        plt.show()\n",
    "        br=True\n",
    "        break\n",
    "if(br == False):\n",
    "    plt.plot(np.squeeze(costs))\n",
    "    plt.show()\n"
   ]
  },
  {
   "cell_type": "code",
   "execution_count": 546,
   "metadata": {},
   "outputs": [
    {
     "name": "stdout",
     "output_type": "stream",
     "text": [
      "0.7008727528522288\n"
     ]
    }
   ],
   "source": [
    "print(cost)"
   ]
  },
  {
   "cell_type": "code",
   "execution_count": 580,
   "metadata": {},
   "outputs": [
    {
     "name": "stdout",
     "output_type": "stream",
     "text": [
      "[[[0.04149762 0.04166293 0.0414108 ]\n",
      "  [0.04166982 0.04183565 0.04158034]\n",
      "  [0.04150098 0.04166106 0.04140536]]]\n",
      "[[[0.04149852 0.04166289 0.0414098 ]\n",
      "  [0.04167072 0.04183561 0.04157933]\n",
      "  [0.04150185 0.04166101 0.04140436]]]\n"
     ]
    }
   ],
   "source": [
    "print(W2)\n",
    "print(W1)"
   ]
  },
  {
   "cell_type": "code",
   "execution_count": 208,
   "metadata": {},
   "outputs": [],
   "source": [
    "z=np.random.randint(50,size=(5,6,6))\n"
   ]
  },
  {
   "cell_type": "code",
   "execution_count": 154,
   "metadata": {},
   "outputs": [
    {
     "name": "stdout",
     "output_type": "stream",
     "text": [
      "[[[2 4 2]\n",
      "  [4 4 3]\n",
      "  [3 2 3]]\n",
      "\n",
      " [[4 4 4]\n",
      "  [3 3 3]\n",
      "  [1 3 0]]\n",
      "\n",
      " [[3 4 4]\n",
      "  [3 2 3]\n",
      "  [4 4 1]]]\n"
     ]
    }
   ],
   "source": [
    "print(z)"
   ]
  },
  {
   "cell_type": "code",
   "execution_count": 156,
   "metadata": {},
   "outputs": [
    {
     "name": "stdout",
     "output_type": "stream",
     "text": [
      "[[[2 4]\n",
      "  [4 4]]\n",
      "\n",
      " [[4 4]\n",
      "  [3 3]]\n",
      "\n",
      " [[3 4]\n",
      "  [3 2]]]\n"
     ]
    }
   ],
   "source": [
    "print(z[0:3,0:2,0:2])"
   ]
  },
  {
   "cell_type": "code",
   "execution_count": 11,
   "metadata": {},
   "outputs": [],
   "source": [
    "def e_conv(imag,filt,stride,pad):\n",
    "\n",
    "    cnv_1 = ((imag.shape[0] + 2*pad) - filt.shape[0])//stride + 1\n",
    "    cnv_2 = ((imag.shape[1] + 2*pad) - filt.shape[1])//stride + 1\n",
    "    \n",
    "    b = np.zeros((filt.shape[0]*filt.shape[1],cnv_1*cnv_2),dtype=\"float64\")\n",
    "    \n",
    "    z=0\n",
    "    \n",
    "    for i in range(cnv_1):\n",
    "        v_start = i * stride\n",
    "        v_end = v_start + filt.shape[0]\n",
    "        for j in range(cnv_2):\n",
    "\n",
    "            \n",
    "            h_start = j * stride\n",
    "            h_end = h_start + filt.shape[1]\n",
    "            \n",
    "            b[:,z] = imag[v_start:v_end,h_start:h_end].flatten()\n",
    "            \n",
    "            z+=1\n",
    "    b=np.dot(np.reshape(filt,(filt.shape[0]*filt.shape[1],1)).T,b)\n",
    "    \n",
    "    print(np.reshape(b,(cnv_1,cnv_2))) "
   ]
  },
  {
   "cell_type": "code",
   "execution_count": 33,
   "metadata": {},
   "outputs": [],
   "source": [
    "def three_dimn_conv(imag,filt,stride,pad):\n",
    "    cnv_0 = imag.shape[0]\n",
    "    cnv_1 = ((imag.shape[1] + 2*pad) - filt.shape[1])//stride + 1\n",
    "    cnv_2 = ((imag.shape[2] + 2*pad) - filt.shape[2])//stride + 1\n",
    "    \n",
    "    b = np.zeros((filt.shape[1]*filt.shape[2]*cnv_0,cnv_1*cnv_2),dtype=\"float64\")\n",
    "    #print(cnv_0,cnv_1,cnv_2)\n",
    "    z=0\n",
    "    \n",
    "    for i in range(cnv_1):\n",
    "        v_start = i * stride\n",
    "        v_end = v_start + filt.shape[1]\n",
    "        for j in range(cnv_2):\n",
    "\n",
    "            \n",
    "            h_start = j * stride\n",
    "            h_end = h_start + filt.shape[2]\n",
    "            \n",
    "            b[:,z]=imag[0:cnv_0,v_start:v_end,h_start:h_end].flatten()\n",
    "            z+=1\n",
    "    #print(b.shape)\n",
    "    b=np.reshape(b,(cnv_0,filt.shape[1]*filt.shape[2],cnv_1*cnv_2))\n",
    "     #b=np.reshape(b,())\n",
    "    b=np.transpose(b,(0,2,1))\n",
    "    #print(b.shape,filt.shape)\n",
    "    b=np.dot(b,np.reshape(filt,(filt.shape[1]*filt.shape[2],filt.shape[0])))\n",
    "    return (np.reshape(b,(cnv_0,cnv_1,cnv_2)) )\n",
    " \n"
   ]
  },
  {
   "cell_type": "code",
   "execution_count": null,
   "metadata": {},
   "outputs": [],
   "source": []
  },
  {
   "cell_type": "code",
   "execution_count": 34,
   "metadata": {},
   "outputs": [],
   "source": [
    "def d_three_dimn_conv(imag,filt,stride,pad):\n",
    "    cnv_0 = imag.shape[0]\n",
    "    cnv_1 = ((imag.shape[1] + 2*pad) - filt.shape[1])//stride + 1\n",
    "    cnv_2 = ((imag.shape[2] + 2*pad) - filt.shape[2])//stride + 1\n",
    "    \n",
    "    b = np.zeros((filt.shape[1]*filt.shape[2]*cnv_0,cnv_1*cnv_2),dtype=\"float64\")\n",
    "    #print(cnv_0,cnv_1,cnv_2)\n",
    "    z=0\n",
    "    \n",
    "    for i in range(cnv_1):\n",
    "        v_start = i * stride\n",
    "        v_end = v_start + filt.shape[1]\n",
    "        for j in range(cnv_2):\n",
    "\n",
    "            \n",
    "            h_start = j * stride\n",
    "            h_end = h_start + filt.shape[2]\n",
    "            \n",
    "            b[:,z]=imag[0:cnv_0,v_start:v_end,h_start:h_end].flatten()\n",
    "            z+=1\n",
    "    #print(b.shape,filt.shape)\n",
    "    b=np.dot(b.T,np.reshape(filt,(filt.shape[1]*filt.shape[2]*filt.shape[0],1)))\n",
    "    return np.reshape(b,(1,cnv_1,cnv_2))\n",
    "  \n",
    " "
   ]
  },
  {
   "cell_type": "code",
   "execution_count": null,
   "metadata": {},
   "outputs": [],
   "source": []
  },
  {
   "cell_type": "code",
   "execution_count": 35,
   "metadata": {},
   "outputs": [],
   "source": [
    "def init_mini_batches(X,Y,mini_batch_size):\n",
    "    m = X.shape[0]\n",
    "    \n",
    "    num_complete_minibatches = m//mini_batch_size\n",
    "    mini_batches = []\n",
    "    \n",
    "    for i in range(num_complete_minibatches):\n",
    "        mini_batch_X = X[ i*mini_batch_size:(i+1)*mini_batch_size:, ] \n",
    "        mini_batch_Y = Y[ i*mini_batch_size:(i+1)*mini_batch_size :,]\n",
    "        \n",
    "        mini_batch = (mini_batch_X,mini_batch_Y)\n",
    "        mini_batches.append(mini_batch)\n",
    "        \n",
    "    if m%mini_batch_size!=0:\n",
    "        mini_batch_X = X[ num_complete_minibatches*mini_batch_size:m:, ] \n",
    "        mini_batch_Y = Y[ num_complete_minibatches*mini_batch_size:m :,]\n",
    "        \n",
    "        mini_batch = (mini_batch_X,mini_batch_Y)\n",
    "        mini_batches.append(mini_batch)\n",
    "    return mini_batches"
   ]
  },
  {
   "cell_type": "code",
   "execution_count": 39,
   "metadata": {},
   "outputs": [],
   "source": [
    "def init():\n",
    "    parameters = {}\n",
    "    parameters[\"W1\"] = np.random.rand(1,3,3)*0.001#np.sqrt(1/(250))\n",
    "    parameters[\"W2\"] = np.random.rand(1,3,3)*0.001#np.sqrt(1/(200))\n",
    "    parameters[\"W3\"] = np.random.rand(1,5776)*0.001#np.sqrt(1/(200))1\n",
    "    return parameters"
   ]
  },
  {
   "cell_type": "code",
   "execution_count": 37,
   "metadata": {},
   "outputs": [],
   "source": [
    "def shuffle(a,b,seed):\n",
    "    np.random.seed(seed)\n",
    "    np.random.shuffle(a)\n",
    "    np.random.seed(seed)\n",
    "    np.random.shuffle(b)"
   ]
  },
  {
   "cell_type": "code",
   "execution_count": null,
   "metadata": {},
   "outputs": [],
   "source": []
  },
  {
   "cell_type": "code",
   "execution_count": null,
   "metadata": {},
   "outputs": [],
   "source": []
  },
  {
   "cell_type": "code",
   "execution_count": null,
   "metadata": {},
   "outputs": [],
   "source": []
  },
  {
   "cell_type": "code",
   "execution_count": 51,
   "metadata": {},
   "outputs": [
    {
     "name": "stdout",
     "output_type": "stream",
     "text": [
      "Cost after iteration 0: 0.6931452678796718\n",
      "Cost after iteration 10: 0.6822021129784701\n",
      "Cost after iteration 20: 0.6782718232891128\n",
      "Cost after iteration 30: 0.6766366415436618\n",
      "Cost after iteration 40: 0.6756350526578784\n",
      "Cost after iteration 50: 0.6733407934933227\n",
      "Cost after iteration 60: 0.6746543614845912\n",
      "Cost after iteration 70: 0.6730265719297224\n",
      "Cost after iteration 80: 0.6721989026242532\n",
      "Cost after iteration 90: 0.6701445637249093\n",
      "Cost after iteration 100: 0.6700414780169608\n",
      "Cost after iteration 110: 0.6697947396684794\n",
      "Cost after iteration 120: 0.6681347563542285\n",
      "Cost after iteration 130: 0.6662080282754703\n",
      "Cost after iteration 140: 0.6658140576769342\n",
      "Cost after iteration 150: 0.6654424276366604\n",
      "Cost after iteration 160: 0.66426096931355\n",
      "Cost after iteration 170: 0.6629821762989204\n",
      "Cost after iteration 180: 0.6635276127999148\n",
      "Cost after iteration 190: 0.6613873250020474\n",
      "Cost after iteration 200: 0.6634238321012305\n",
      "Cost after iteration 210: 0.6592339264137173\n",
      "Cost after iteration 220: 0.6586894047581696\n",
      "Cost after iteration 230: 0.6590925672047094\n"
     ]
    },
    {
     "data": {
      "image/png": "[encoded data removed]",
      "text/plain": [
       "<Figure size 432x288 with 1 Axes>"
      ]
     },
     "metadata": {},
     "output_type": "display_data"
    }
   ],
   "source": [
    "parameters = init()\n",
    "m=Y_train.shape[0]\n",
    "costs=[]\n",
    "grads={}\n",
    "\n",
    "W1 = parameters[\"W1\"]\n",
    "W2 = parameters[\"W2\"]\n",
    "W3 = parameters[\"W3\"]\n",
    "\n",
    "\n",
    "v,s = init_adam_prm(parameters)\n",
    "\n",
    "#mini_batches = init_mini_batches(X_train,Y_train,64)\n",
    "#print(mini_batches[0][0].shape)\n",
    "#return 0\n",
    "t=0\n",
    "for i in range(30001):\n",
    "    #print(i)\n",
    "    try:\n",
    "        shuffle(X_train,Y_train,i+1)\n",
    "        mini_batches = init_mini_batches(X_train,Y_train,64)\n",
    "        cost=0\n",
    "        \n",
    "        #num=0\n",
    "        for mini_batch in mini_batches:\n",
    "            \n",
    "            (minibatch_X,minibatch_Y) = mini_batch\n",
    "\n",
    "            n=minibatch_Y.shape[0]\n",
    "\n",
    "            Z1 =three_dimn_conv(minibatch_X,W1,1,0)\n",
    "            A1=relu(Z1)\n",
    "            Z2 =three_dimn_conv(A1,W2,1,0) \n",
    "            A2=relu(Z2)\n",
    "            f_c=np.reshape(A2,(A2.shape[0],A2.shape[1]*A2.shape[2]))\n",
    "            Z3 = np.dot(f_c,W3.T)\n",
    "            A3=sigmoid(Z3)\n",
    "            cost += compute_cost(A3,minibatch_Y)\n",
    "            #print(cost)\n",
    "            \n",
    "            dZ3 = A3 - minibatch_Y\n",
    "            dW3 = np.dot(dZ3.T,f_c)/n\n",
    "            dF_c = np.dot(dZ3,W3)\n",
    "            dA2 = np.reshape(dF_c,(A2.shape[0],A2.shape[1],A2.shape[2]))\n",
    "            dZ2 = np.multiply(dA2,relu_backward(Z2))\n",
    "            dW2 = d_three_dimn_conv(A1,dZ2,1,0)/n\n",
    "            npad = ((0, 0), (W2.shape[1]-1, W2.shape[1]-1), (W2.shape[2]-1, W2.shape[2]-1))\n",
    "            dA1 = three_dimn_conv(np.pad(dZ2,pad_width=npad,mode=\"constant\"),np.rot90(W2,2),1,0)\n",
    "            dZ1 = np.multiply(dA1,relu_backward(Z1))\n",
    "            dW1= d_three_dimn_conv(minibatch_X,dZ1,1,0)/n\n",
    "            grads[\"dW1\"] = dW1\n",
    "            grads[\"dW2\"] = dW2\n",
    "            grads[\"dW3\"] = dW3\n",
    "            t+=1\n",
    "            parameters,v,s = adam_optimizer(parameters,grads,v,s,t,learning_rate=0.000065)\n",
    "            W1 = parameters[\"W1\"]\n",
    "            W2 = parameters[\"W2\"]\n",
    "\n",
    "            W3 = parameters[\"W3\"]\n",
    "#num+=1    \n",
    "\n",
    "            \n",
    "          #print(num)\n",
    "\n",
    "        \n",
    "        if i %1 == 0:\n",
    "            costs.append(cost/len(mini_batches))\n",
    "            \n",
    "        if i %10 == 0:\n",
    "            #costs.append(cost/len(mini_batches))\n",
    "            print(\"Cost after iteration {}: {}\".format(i, np.squeeze(cost/len(mini_batches))))\n",
    "        \n",
    "    \n",
    "    except KeyboardInterrupt:\n",
    "        plt.plot(np.squeeze(costs))\n",
    "        plt.show()\n",
    "        br=True\n",
    "        break\n",
    "if(br == False):\n",
    "    plt.plot(np.squeeze(costs))\n",
    "    plt.show()\n"
   ]
  },
  {
   "cell_type": "markdown",
   "metadata": {},
   "source": [
    "print(W1,W2)"
   ]
  },
  {
   "cell_type": "code",
   "execution_count": 52,
   "metadata": {},
   "outputs": [
    {
     "name": "stdout",
     "output_type": "stream",
     "text": [
      "[[[0.00939762 0.07122542 0.02396515]\n",
      "  [0.09890086 0.17044553 0.11456628]\n",
      "  [0.08722641 0.15356442 0.10318203]]] [[[0.01500514 0.07276269 0.01948238]\n",
      "  [0.10680118 0.17072866 0.10845766]\n",
      "  [0.09517636 0.15408428 0.09678584]]]\n"
     ]
    }
   ],
   "source": [
    "print(W1,W2)"
   ]
  },
  {
   "cell_type": "markdown",
   "metadata": {},
   "source": [
    "print(W1,W2)"
   ]
  },
  {
   "cell_type": "code",
   "execution_count": 136,
   "metadata": {},
   "outputs": [
    {
     "name": "stdout",
     "output_type": "stream",
     "text": [
      "[[5 6]\n",
      " [6 0]\n",
      " [1 0]\n",
      " [4 7]]\n",
      "[1 2 3 4]\n"
     ]
    }
   ],
   "source": [
    "a=np.random.randint(8,size=(4,2))\n",
    "b=np.array(([1,2,3,4,]))\n",
    "print(a)\n",
    "print(b)"
   ]
  },
  {
   "cell_type": "code",
   "execution_count": 145,
   "metadata": {},
   "outputs": [],
   "source": [
    "shuffle(a,b,4)"
   ]
  },
  {
   "cell_type": "code",
   "execution_count": 146,
   "metadata": {},
   "outputs": [
    {
     "name": "stdout",
     "output_type": "stream",
     "text": [
      "[[5 6]\n",
      " [4 7]\n",
      " [1 0]\n",
      " [6 0]]\n",
      "[1 4 3 2]\n"
     ]
    }
   ],
   "source": [
    "\n",
    "print(a)\n",
    "print(b)"
   ]
  },
  {
   "cell_type": "code",
   "execution_count": 150,
   "metadata": {},
   "outputs": [
    {
     "name": "stdout",
     "output_type": "stream",
     "text": [
      "99\n"
     ]
    }
   ],
   "source": [
    "print(random.randint(1,100))"
   ]
  },
  {
   "cell_type": "code",
   "execution_count": 45,
   "metadata": {},
   "outputs": [],
   "source": [
    "def pred(X,Y,parameters):\n",
    "    m=Y.shape[0]\n",
    "    Z1 =three_dimn_conv(X,W1,1,0)\n",
    "    A1=relu(Z1)\n",
    "    Z2 =three_dimn_conv(A1,W2,1,0) \n",
    "    A2=relu(Z2)\n",
    "    f_c=np.reshape(A2,(A2.shape[0],A2.shape[1]*A2.shape[2]))\n",
    "    Z3 = np.dot(f_c,W3.T)\n",
    "    A3=sigmoid(Z3)\n",
    "    print(A3.shape)\n",
    "    pr = np.where(A3>0.5,1,0)\n",
    "    \n",
    "    print(\"prediction accuracy\" + \" \" + str(np.sum((pr == Y))/m))"
   ]
  },
  {
   "cell_type": "code",
   "execution_count": 54,
   "metadata": {},
   "outputs": [
    {
     "name": "stdout",
     "output_type": "stream",
     "text": [
      "(8005, 1)\n",
      "prediction accuracy 0.6122423485321674\n"
     ]
    }
   ],
   "source": [
    "pred(X_train,Y_train,parameters)"
   ]
  },
  {
   "cell_type": "code",
   "execution_count": 53,
   "metadata": {},
   "outputs": [
    {
     "name": "stdout",
     "output_type": "stream",
     "text": [
      "(2023, 1)\n",
      "prediction accuracy 0.5585763717251606\n"
     ]
    }
   ],
   "source": [
    "pred(X_test,Y_test,parameters)"
   ]
  },
  {
   "cell_type": "code",
   "execution_count": null,
   "metadata": {},
   "outputs": [],
   "source": []
  }
 ],
 "metadata": {
  "kernelspec": {
   "display_name": "Python 3",
   "language": "python",
   "name": "python3"
  },
  "language_info": {
   "codemirror_mode": {
    "name": "ipython",
    "version": 3
   },
   "file_extension": ".py",
   "mimetype": "text/x-python",
   "name": "python",
   "nbconvert_exporter": "python",
   "pygments_lexer": "ipython3",
   "version": "3.6.5"
  }
 },
 "nbformat": 4,
 "nbformat_minor": 2
}

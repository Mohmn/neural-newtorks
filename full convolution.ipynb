{
 "cells": [
  {
   "cell_type": "code",
   "execution_count": 3,
   "metadata": {},
   "outputs": [],
   "source": [
    "import numpy as np\n"
   ]
  },
  {
   "cell_type": "code",
   "execution_count": 4,
   "metadata": {},
   "outputs": [
    {
     "name": "stdout",
     "output_type": "stream",
     "text": [
      "[[1. 1. 1. 1.]\n",
      " [1. 1. 1. 1.]\n",
      " [1. 1. 1. 1.]\n",
      " [1. 1. 1. 1.]]\n",
      "[[5 3]\n",
      " [2 3]]\n"
     ]
    }
   ],
   "source": [
    "a=np.ones((4,4))\n",
    "b=np.random.randint(6,size=(2,2))\n",
    "print(a)\n",
    "print(b)"
   ]
  },
  {
   "cell_type": "code",
   "execution_count": 5,
   "metadata": {},
   "outputs": [
    {
     "ename": "ValueError",
     "evalue": "cannot reshape array of size 4 into shape (4,4)",
     "output_type": "error",
     "traceback": [
      "\u001b[1;31m---------------------------------------------------------------------------\u001b[0m",
      "\u001b[1;31mValueError\u001b[0m                                Traceback (most recent call last)",
      "\u001b[1;32m<ipython-input-5-04aff4c128b5>\u001b[0m in \u001b[0;36m<module>\u001b[1;34m()\u001b[0m\n\u001b[1;32m----> 1\u001b[1;33m \u001b[0mb\u001b[0m\u001b[1;33m=\u001b[0m\u001b[0mb\u001b[0m\u001b[1;33m.\u001b[0m\u001b[0mreshape\u001b[0m\u001b[1;33m(\u001b[0m\u001b[1;36m4\u001b[0m\u001b[1;33m,\u001b[0m\u001b[1;36m4\u001b[0m\u001b[1;33m)\u001b[0m\u001b[1;33m\u001b[0m\u001b[0m\n\u001b[0m",
      "\u001b[1;31mValueError\u001b[0m: cannot reshape array of size 4 into shape (4,4)"
     ]
    }
   ],
   "source": [
    "b=b.reshape(4,4)"
   ]
  },
  {
   "cell_type": "code",
   "execution_count": null,
   "metadata": {},
   "outputs": [],
   "source": [
    "def convolution(img,filt,stride):\n",
    "    shape_0 = (img.shape[0]-filt.shape[0])//stride + 1\n",
    "    shape_1 = (img.shape[1]-filt.shape[1])//stride + 1\n",
    "    \n",
    "    cnn = np.zeros((shape_0,shape_1))\n",
    "    \n",
    "    for i in range(shape_0):\n",
    "        for j in range(shape_1):\n",
    "            h = stride*i\n",
    "            h_end = h+ filt.shape[0]\n",
    "            w=j*stride\n",
    "            w_end = w+filt.shape[1]\n",
    "            \n",
    "            #cnn[i,j] = np.sum(np.multiply(img[h:h_end,w:w_end],filt))\n",
    "            print(img[h:h_end,w:w_end],img[h:h_end,w:w_end]==filt[i,j])\n",
    "            \n",
    "            \n",
    "          \n",
    "            \n",
    "    #return cnn "
   ]
  },
  {
   "cell_type": "code",
   "execution_count": null,
   "metadata": {},
   "outputs": [],
   "source": [
    "convolution(a,b,2)"
   ]
  },
  {
   "cell_type": "code",
   "execution_count": null,
   "metadata": {},
   "outputs": [],
   "source": [
    "a=np.random.randint(100,size=(4,4))\n",
    "print(a)"
   ]
  },
  {
   "cell_type": "code",
   "execution_count": null,
   "metadata": {},
   "outputs": [],
   "source": [
    "b=np.array(([90,48],[91,45]))"
   ]
  },
  {
   "cell_type": "code",
   "execution_count": null,
   "metadata": {},
   "outputs": [],
   "source": [
    "a=np.random.randint(9,size=(4,3,5,3))\n",
    "print(a.shape)\n",
    "a=a.reshape(4,-1)\n",
    "print(a.shape)"
   ]
  },
  {
   "cell_type": "code",
   "execution_count": null,
   "metadata": {},
   "outputs": [],
   "source": []
  },
  {
   "cell_type": "code",
   "execution_count": null,
   "metadata": {},
   "outputs": [],
   "source": [
    "print(a==b)"
   ]
  },
  {
   "cell_type": "code",
   "execution_count": 66,
   "metadata": {},
   "outputs": [
    {
     "name": "stdout",
     "output_type": "stream",
     "text": [
      "[[1 0 1]\n",
      " [1 0 1]\n",
      " [1 0 1]]\n"
     ]
    }
   ],
   "source": [
    "f =  np.array(([1,1,1],[0,0,0],[1,1,1])).T\n",
    "print(f)"
   ]
  },
  {
   "cell_type": "code",
   "execution_count": 67,
   "metadata": {},
   "outputs": [
    {
     "name": "stdout",
     "output_type": "stream",
     "text": [
      "[[ 1  2  3  4  5]\n",
      " [ 6  7  8  9 10]\n",
      " [11 12 13 14 15]\n",
      " [16 17 18 19 20]\n",
      " [21 22 23 24 25]]\n"
     ]
    }
   ],
   "source": [
    "img = np.array(([1  ,2,  3,  4,  5 ] ,    \n",
    "    [6  ,7  ,8  ,9 , 10],         \n",
    "    [11 ,12, 13, 14, 15],          \n",
    "    [16 ,17 ,18 ,19 ,20],\n",
    "    [21 ,22, 23, 24, 25]))\n",
    "print(img)"
   ]
  },
  {
   "cell_type": "code",
   "execution_count": 230,
   "metadata": {},
   "outputs": [],
   "source": [
    "\n",
    "def full_conv(img,siz,f):\n",
    "    r=[]\n",
    "    \n",
    "    z=0\n",
    "    size = siz\n",
    "    for i in range(1,img.shape[0]+size,1):\n",
    "        k=0\n",
    "\n",
    "        if i>size:\n",
    "                z=i-size\n",
    "\n",
    "\n",
    "        for j in range(1,img.shape[1]+size,1):\n",
    "\n",
    "            if j>size:\n",
    "                k=j-size\n",
    "\n",
    "            print(img[z:i,k:j],f[z:i,k:j])\n",
    "            #print(i,z,k,j,end=\"   \")\n",
    "        \n",
    "    #return r\n",
    "def cnv(img,size,f):\n",
    "    \n",
    "    a_3=0\n",
    "    \n",
    "    maxx = size\n",
    "    k=maxx\n",
    "    \n",
    "    for j in range(1,img.shape[0]+maxx):\n",
    "        a_1=0\n",
    "        m = maxx\n",
    "        a_4=j\n",
    "        if  j>= maxx + 1:\n",
    "            a_3 +=1\n",
    "        if a_4 > img.shape[0]:\n",
    "            a_4 = img.shape[0]\n",
    "            k-=1\n",
    "        \n",
    "        \n",
    "    \n",
    "        for i in range(1,img.shape[1]+maxx):\n",
    "\n",
    "            a_2=i\n",
    "\n",
    "            if i >= maxx + 1:\n",
    "                a_1 +=1\n",
    "            if a_2 > img.shape[1]:\n",
    "                a_2 = img.shape[1]\n",
    "                m-=1\n",
    "            #print(a_2-i+a_1)#,a_2,a_1,i-a_1,i-a_2,i)   a[m-(a_2-a_1):m],\n",
    "            #print(img[a_3:a_4,a_1:a_2])\n",
    "            #print(np.sum(np.multiply(img[a_3:a_4,a_1:a_2],f[k-(a_4-a_3):k,m-(a_2-a_1):m])),end=\"     \")\n",
    "            print(img[a_3:a_4,a_1:a_2],f[k-(a_4-a_3):k,m-(a_2-a_1):m],end = \"   \")\n",
    "        print()\n",
    "        print()\n",
    "        print()\n",
    "\n"
   ]
  },
  {
   "cell_type": "code",
   "execution_count": 262,
   "metadata": {},
   "outputs": [],
   "source": [
    "def conv(imag,filt,stride,pad):\n",
    "\n",
    "    cnv_1 = (imag.shape[0] + 2*pad - filt.shape[0])//stride + 1\n",
    "    cnv_2 = (imag.shape[1] + 2*pad - filt.shape[1])//stride + 1\n",
    "    \n",
    "    b = np.zeros((filt.shape[0]*filt.shape[1],cnv_1*cnv_2),dtype=\"float64\")\n",
    "    \n",
    "    z=0\n",
    "    \n",
    "    for i in range(cnv_1):\n",
    "        v_start = i * stride\n",
    "        v_end = v_start + filt.shape[0]\n",
    "        for j in range(cnv_2):\n",
    "\n",
    "            \n",
    "            h_start = j * stride\n",
    "            h_end = h_start + filt.shape[1]\n",
    "            \n",
    "            b[:,z] = imag[v_start:v_end,h_start:h_end].flatten()\n",
    "            #print(imag[v_start:v_end,h_start:h_end],end=\" \")\n",
    "            z+=1\n",
    "       \n",
    "    b=np.dot(np.reshape(filt,(filt.shape[0]*filt.shape[1],1)).T,b)\n",
    "    \n",
    "    return np.reshape(b,(cnv_1,cnv_2)) \n"
   ]
  },
  {
   "cell_type": "code",
   "execution_count": 165,
   "metadata": {},
   "outputs": [
    {
     "name": "stdout",
     "output_type": "stream",
     "text": [
      "4     11     18     9     \n",
      "\n",
      "\n",
      "18     37     47     21     \n",
      "\n",
      "\n",
      "36     67     77     33     \n",
      "\n",
      "\n",
      "14     23     26     9     \n",
      "\n",
      "\n"
     ]
    }
   ],
   "source": [
    "cnv(a,2,f)\n"
   ]
  },
  {
   "cell_type": "code",
   "execution_count": null,
   "metadata": {},
   "outputs": [],
   "source": [
    "for i in range(7):\n",
    "    print(a[i])\n",
    "    "
   ]
  },
  {
   "cell_type": "code",
   "execution_count": 73,
   "metadata": {},
   "outputs": [
    {
     "name": "stdout",
     "output_type": "stream",
     "text": [
      "[[  1.   2.   4.   6.   8.   4.   5.]\n",
      " [  7.   9.  18.  22.  26.  13.  15.]\n",
      " [ 18.  21.  42.  48.  54.  27.  30.]\n",
      " [ 33.  36.  72.  78.  84.  42.  45.]\n",
      " [ 48.  51. 102. 108. 114.  57.  60.]\n",
      " [ 37.  39.  78.  82.  86.  43.  45.]\n",
      " [ 21.  22.  44.  46.  48.  24.  25.]] [[  1.   4.   8.   5.]\n",
      " [ 18.  42.  54.  30.]\n",
      " [ 48. 102. 114.  60.]\n",
      " [ 21.  44.  48.  25.]]\n"
     ]
    }
   ],
   "source": [
    "print(conv(np.pad(img,(2,2),\"constant\"),f,1,0),conv(np.pad(img,(2,2),\"constant\"),f,2,0))"
   ]
  },
  {
   "cell_type": "code",
   "execution_count": null,
   "metadata": {},
   "outputs": [],
   "source": []
  },
  {
   "cell_type": "code",
   "execution_count": null,
   "metadata": {},
   "outputs": [],
   "source": [
    "a=[9,4,7,1]\n",
    "b=[1,2,3,4,5]\n",
    "print(a,\"\\n\",b)"
   ]
  },
  {
   "cell_type": "code",
   "execution_count": null,
   "metadata": {},
   "outputs": [],
   "source": [
    "a_1=0\n",
    "maxx = 4\n",
    "m = maxx\n",
    "for j in range(1,len())\n",
    "    for i in range(1,len(b)+maxx):\n",
    "\n",
    "        a_2=i\n",
    "\n",
    "        if i >= maxx + 1:\n",
    "            a_1 +=1\n",
    "        if a_2 > len(b):\n",
    "            a_2 = len(b)\n",
    "            m-=1\n",
    "        #print(a_2-i+a_1)#,a_2,a_1,i-a_1,i-a_2,i)\n",
    "        print(a[m-(a_2-a_1):m],b[a_1:a_2])\n",
    "     "
   ]
  },
  {
   "cell_type": "code",
   "execution_count": null,
   "metadata": {},
   "outputs": [],
   "source": [
    "k=1\n",
    "for i,j in zip(range(7),range(2)):\n",
    "    print(i,j)\n",
    "    "
   ]
  },
  {
   "cell_type": "code",
   "execution_count": null,
   "metadata": {},
   "outputs": [],
   "source": [
    "i=-1\n",
    "j=-1\n",
    "a=[1,2,3]\n",
    "while i <7 and j<3:\n",
    "    \n",
    "    \n",
    "    i+=1\n",
    "    j+=1\n",
    "    \n",
    "    if j==3:\n",
    "        j=0\n",
    "    print(i,j,i-j)\n",
    "    "
   ]
  },
  {
   "cell_type": "code",
   "execution_count": 231,
   "metadata": {},
   "outputs": [
    {
     "name": "stdout",
     "output_type": "stream",
     "text": [
      "[['Z11' 'Z12']\n",
      " ['Z21' 'Z22']] [['W22' 'W21']\n",
      " ['W12' 'W11']]\n"
     ]
    }
   ],
   "source": [
    "a=np.array((['Z11','Z12'],['Z21','Z22']),dtype=object)\n",
    "b=np.array((['W22','W21'],['W12','W11']),dtype=object)\n",
    "print(a,b)"
   ]
  },
  {
   "cell_type": "code",
   "execution_count": null,
   "metadata": {},
   "outputs": [],
   "source": []
  },
  {
   "cell_type": "code",
   "execution_count": null,
   "metadata": {},
   "outputs": [],
   "source": []
  },
  {
   "cell_type": "code",
   "execution_count": 232,
   "metadata": {},
   "outputs": [
    {
     "name": "stdout",
     "output_type": "stream",
     "text": [
      "[['Z11']] [['W11']]   [['Z11' 'Z12']] [['W12' 'W11']]   [['Z12']] [['W12']]   \n",
      "\n",
      "\n",
      "[['Z11']\n",
      " ['Z21']] [['W21']\n",
      " ['W11']]   [['Z11' 'Z12']\n",
      " ['Z21' 'Z22']] [['W22' 'W21']\n",
      " ['W12' 'W11']]   [['Z12']\n",
      " ['Z22']] [['W22']\n",
      " ['W12']]   \n",
      "\n",
      "\n",
      "[['Z21']] [['W21']]   [['Z21' 'Z22']] [['W22' 'W21']]   [['Z22']] [['W22']]   \n",
      "\n",
      "\n"
     ]
    }
   ],
   "source": [
    "cnv(a,2,b)"
   ]
  },
  {
   "cell_type": "code",
   "execution_count": 32,
   "metadata": {},
   "outputs": [],
   "source": []
  },
  {
   "cell_type": "code",
   "execution_count": 76,
   "metadata": {},
   "outputs": [
    {
     "name": "stdout",
     "output_type": "stream",
     "text": [
      "[[1 2 3 1]\n",
      " [2 4 5 6]\n",
      " [3 7 8 9]\n",
      " [2 1 2 1]] [[1 3]\n",
      " [2 4]]\n"
     ]
    }
   ],
   "source": [
    "a=np.array(([1,2,3,1],[2,4,5,6],[3,7,8,9],[2,1,2,1]))\n",
    "fl=np.array(([1,3],[2,4]))\n",
    "print(a,fl)"
   ]
  },
  {
   "cell_type": "code",
   "execution_count": 36,
   "metadata": {},
   "outputs": [
    {
     "name": "stdout",
     "output_type": "stream",
     "text": [
      "[[1]] [[4]]   [[1 2]] [[3 4]]   [[1 2 4]] [[1 3 4]]   [[2 4 5]] [[1 3 4]]   [[4 5]] [[1 3]]   [[5]] [[1]]   \n"
     ]
    }
   ],
   "source": [
    "cnnv(a,3,f)"
   ]
  },
  {
   "cell_type": "code",
   "execution_count": 41,
   "metadata": {},
   "outputs": [
    {
     "name": "stdout",
     "output_type": "stream",
     "text": [
      "[[0 0 0 0]\n",
      " [0 1 2 0]\n",
      " [0 4 5 0]\n",
      " [0 0 0 0]]\n"
     ]
    }
   ],
   "source": [
    "print(np.pad(a,(1,1),\"constant\"))"
   ]
  },
  {
   "cell_type": "code",
   "execution_count": 77,
   "metadata": {},
   "outputs": [
    {
     "name": "stdout",
     "output_type": "stream",
     "text": [
      "[[27. 39. 40.]\n",
      " [48. 65. 75.]\n",
      " [32. 41. 43.]]\n"
     ]
    }
   ],
   "source": [
    "print(conv(a,fl,1,0))"
   ]
  },
  {
   "cell_type": "code",
   "execution_count": 80,
   "metadata": {},
   "outputs": [
    {
     "name": "stdout",
     "output_type": "stream",
     "text": [
      "[[27. 40.]\n",
      " [32. 43.]]\n"
     ]
    }
   ],
   "source": [
    "print(conv(a,fl,2,0))"
   ]
  },
  {
   "cell_type": "code",
   "execution_count": 148,
   "metadata": {},
   "outputs": [],
   "source": []
  },
  {
   "cell_type": "code",
   "execution_count": 158,
   "metadata": {
    "scrolled": true
   },
   "outputs": [
    {
     "name": "stdout",
     "output_type": "stream",
     "text": [
      "[[ 9. 26. 23. 14.]\n",
      " [33. 77. 67. 36.]\n",
      " [21. 47. 37. 18.]\n",
      " [ 9. 18. 11.  4.]]\n",
      "[[ 0.  0.  0.  0.  0.  0.]\n",
      " [ 0.  4. 11. 18.  9.  0.]\n",
      " [ 0. 18. 37. 47. 21.  0.]\n",
      " [ 0. 36. 67. 77. 33.  0.]\n",
      " [ 0. 14. 23. 26.  9.  0.]\n",
      " [ 0.  0.  0.  0.  0.  0.]]\n"
     ]
    }
   ],
   "source": [
    "print(conv(np.pad(f,(2,2),\"constant\"),a,1,0))\n",
    "print(conv(np.pad(a,(2,2),\"constant\"),f,1,0))"
   ]
  },
  {
   "cell_type": "code",
   "execution_count": 270,
   "metadata": {},
   "outputs": [
    {
     "name": "stdout",
     "output_type": "stream",
     "text": [
      "[[0.1005273  0.64421501]\n",
      " [0.39142387 0.01806386]]\n"
     ]
    }
   ],
   "source": [
    "a=np.random.rand(5,5)\n",
    "f=np.random.rand(2,2)\n",
    "print(f)"
   ]
  },
  {
   "cell_type": "code",
   "execution_count": 271,
   "metadata": {},
   "outputs": [
    {
     "name": "stdout",
     "output_type": "stream",
     "text": [
      "[[ True  True  True  True  True  True]\n",
      " [ True  True False  True  True  True]\n",
      " [ True False  True  True False  True]\n",
      " [ True  True  True  True  True  True]\n",
      " [ True False  True False  True False]\n",
      " [ True  True  True  True  True  True]]\n"
     ]
    }
   ],
   "source": [
    "print(conv(np.pad(f,(4,4),\"constant\"),np.rot90(a,2),1,0)==conv(np.pad(a,(1,1),\"constant\"),np.rot90(f,2),1,0))"
   ]
  },
  {
   "cell_type": "code",
   "execution_count": 213,
   "metadata": {},
   "outputs": [
    {
     "name": "stdout",
     "output_type": "stream",
     "text": [
      "2     6     12     20     28     36     44     52     60     48     34     18     \n",
      "\n",
      "\n",
      "22     48     78     112     128     144     160     176     192     150     104     54     \n",
      "\n",
      "\n",
      "60     126     198     276     300     324     348     372     396     306     210     108     \n",
      "\n",
      "\n",
      "116     240     372     512     544     576     608     640     672     516     352     180     \n",
      "\n",
      "\n",
      "188     384     588     800     832     864     896     928     960     732     496     252     \n",
      "\n",
      "\n",
      "260     528     804     1088     1120     1152     1184     1216     1248     948     640     324     \n",
      "\n",
      "\n",
      "332     672     1020     1376     1408     1440     1472     1504     1536     1164     784     396     \n",
      "\n",
      "\n",
      "404     816     1236     1664     1696     1728     1760     1792     1824     1380     928     468     \n",
      "\n",
      "\n",
      "476     960     1452     1952     1984     2016     2048     2080     2112     1596     1072     540     \n",
      "\n",
      "\n",
      "384     774     1170     1572     1596     1620     1644     1668     1692     1278     858     432     \n",
      "\n",
      "\n",
      "274     552     834     1120     1136     1152     1168     1184     1200     906     608     306     \n",
      "\n",
      "\n",
      "146     294     444     596     604     612     620     628     636     480     322     162     \n",
      "\n",
      "\n"
     ]
    }
   ],
   "source": [
    "cnv(a,4,f)\n"
   ]
  },
  {
   "cell_type": "code",
   "execution_count": null,
   "metadata": {},
   "outputs": [],
   "source": []
  },
  {
   "cell_type": "code",
   "execution_count": null,
   "metadata": {},
   "outputs": [],
   "source": []
  }
 ],
 "metadata": {
  "kernelspec": {
   "display_name": "Python 3",
   "language": "python",
   "name": "python3"
  },
  "language_info": {
   "codemirror_mode": {
    "name": "ipython",
    "version": 3
   },
   "file_extension": ".py",
   "mimetype": "text/x-python",
   "name": "python",
   "nbconvert_exporter": "python",
   "pygments_lexer": "ipython3",
   "version": "3.6.5"
  }
 },
 "nbformat": 4,
 "nbformat_minor": 2
}

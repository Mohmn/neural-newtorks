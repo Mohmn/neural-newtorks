{
 "cells": [
  {
   "cell_type": "code",
   "execution_count": null,
   "metadata": {},
   "outputs": [],
   "source": [
    "from random import *\n",
    "class perceptron():\n",
    "    def __init__(self,leng):\n",
    "        self.l = leng\n",
    "    def per_init(self):\n",
    "        self.weight=[random for i in range(self.l)]"
   ]
  },
  {
   "cell_type": "code",
   "execution_count": 4,
   "metadata": {},
   "outputs": [
    {
     "name": "stdout",
     "output_type": "stream",
     "text": [
      "[0.7844996607195045, 0.32421778976213267, 0.4157507758516583, 0.7118008195400716, 0.010340801797909194, 0.26926169480350814, 0.403548144185241, 0.7214282359592976, 0.3577902569922232, 0.7262151990743343]\n"
     ]
    }
   ],
   "source": [
    "from random import *\n",
    "a=[random() for i in range(10)]\n",
    "\n",
    "\n",
    "print(a)"
   ]
  },
  {
   "cell_type": "code",
   "execution_count": 33,
   "metadata": {},
   "outputs": [
    {
     "data": {
      "image/png": "[encoded data removed]",
      "text/plain": [
       "<Figure size 432x288 with 1 Axes>"
      ]
     },
     "metadata": {},
     "output_type": "display_data"
    }
   ],
   "source": [
    "from random import *\n",
    "def mine(num):\n",
    "    if num > 0:\n",
    "        return 1\n",
    "    else:\n",
    "        return 0\n",
    "from matplotlib import pyplot as plt\n",
    "class point():\n",
    "    def __init__(self):\n",
    "        self.x = randint(0,10)\n",
    "        self.y = randint(0,100)\n",
    "        if (self.x) >= self.y:\n",
    "            self.label = 1\n",
    "        else:\n",
    "            self.label = 0\n",
    "    \n",
    "\n",
    "    def prin(self):\n",
    "        print(self.x ,self.y,self.label)\n",
    "        \n",
    "class perceptron():\n",
    "    def __int__(self):\n",
    "        self.weights=[]\n",
    "    def leng(self,l):\n",
    "        for i in range(l):\n",
    "            self.weights.append(randint(-1,1)):\n",
    "    def sums(self,inp):\n",
    "        self.add = 0\n",
    "        for i in range(len(self.weights)):\n",
    "            self.add +=self.weight*inp[i]\n",
    "        return mine(self.add)\n",
    "    def train(self,inp,label,lr=0.01):\n",
    "        \n",
    "        error = label - sums(inp)\n",
    "        for i in range(len(self.weight)):\n",
    "            self.weight[i] = self.weight[i] * inp[i] * lr\n",
    "\n",
    "a = []\n",
    "min=[random(),random()]\n",
    "max=[0,random()]\n",
    "plt.plot(min,max,color = \"green\")\n",
    "for i in range(1000):\n",
    "    a.append(point())\n",
    "for i in range(1000):\n",
    "    if a[i].label == 1:\n",
    "        plt.plot(a[i].x,a[i].y,\"ro\",ms='4')\n",
    "    else:\n",
    "        plt.plot(a[i].x,a[i].y,\"bo\",ms='4')\n"
   ]
  },
  {
   "cell_type": "code",
   "execution_count": 30,
   "metadata": {},
   "outputs": [
    {
     "ename": "NameError",
     "evalue": "name 'rand' is not defined",
     "output_type": "error",
     "traceback": [
      "\u001b[1;31m---------------------------------------------------------------------------\u001b[0m",
      "\u001b[1;31mNameError\u001b[0m                                 Traceback (most recent call last)",
      "\u001b[1;32m<ipython-input-30-49491df09341>\u001b[0m in \u001b[0;36m<module>\u001b[1;34m()\u001b[0m\n\u001b[0;32m      1\u001b[0m \u001b[1;32mfrom\u001b[0m \u001b[0mrandom\u001b[0m \u001b[1;32mimport\u001b[0m \u001b[1;33m*\u001b[0m\u001b[1;33m\u001b[0m\u001b[0m\n\u001b[1;32m----> 2\u001b[1;33m \u001b[0mprint\u001b[0m\u001b[1;33m(\u001b[0m\u001b[0mrand\u001b[0m\u001b[1;33m(\u001b[0m\u001b[1;36m0\u001b[0m\u001b[1;33m,\u001b[0m\u001b[1;36m10\u001b[0m\u001b[1;33m)\u001b[0m\u001b[1;33m)\u001b[0m\u001b[1;33m\u001b[0m\u001b[0m\n\u001b[0m",
      "\u001b[1;31mNameError\u001b[0m: name 'rand' is not defined"
     ]
    }
   ],
   "source": [
    "from random import *\n",
    "print(randint(0,10))"
   ]
  },
  {
   "cell_type": "code",
   "execution_count": 64,
   "metadata": {},
   "outputs": [
    {
     "name": "stdout",
     "output_type": "stream",
     "text": [
      "0   1   0   0   1   1   0   0   0   1   1   1   0   0   1   0   1   1   0   1   0   1   0   0   1   0   1   0   0   1   1   0   0   1   0   0   1   1   1   0   0   0   0   0   0   1   1   0   0   1   0   1   1   1   0   0   1   1   0   0   0   1   1   1   1   0   0   0   1   1   1   0   0   1   1   1   1   1   1   1   0   1   1   0   1   1   1   0   1   1   1   0   1   0   0   1   1   0   1   0   0   1   1   0   1   0   1   0   0   0   1   1   1   0   0   0   0   0   0   0   0   0   0   0   0   0   0   0   0   0   1   0   0   0   1   1   1   0   1   1   0   1   1   1   1   0   1   0   1   0   0   1   1   0   1   0   1   1   0   0   0   1   0   1   0   1   0   0   0   1   1   1   0   1   1   0   1   0   0   0   0   1   0   1   1   1   0   0   1   0   1   1   0   0   0   1   0   1   0   1   0   0   1   0   0   0   0   0   1   1   0   1   0   1   0   0   0   0   0   1   1   1   0   0   1   1   0   0   0   1   1   0   1   1   0   1   1   0   0   1   0   0   1   0   0   1   0   0   1   1   1   1   0   1   0   0   1   0   0   0   0   0   1   0   1   0   1   1   1   0   1   1   0   0   1   0   1   1   1   1   1   1   1   1   1   0   0   1   1   0   0   1   0   1   1   0   0   1   0   0   0   0   0   0   0   1   0   1   1   0   1   0   0   1   0   0   1   1   0   1   1   1   0   0   1   1   1   1   1   0   0   1   0   1   0   1   0   0   0   0   0   0   1   0   0   1   1   1   1   1   0   0   1   1   0   1   0   0   1   1   0   1   1   0   1   1   1   1   1   1   0   1   1   1   1   0   1   0   1   0   0   1   0   0   1   0   0   1   1   1   1   0   0   0   1   0   1   1   1   1   0   1   0   1   0   0   0   0   1   0   0   1   1   1   1   1   1   0   0   1   0   0   0   0   1   0   1   0   1   0   0   0   0   1   1   1   1   1   1   1   0   0   0   0   1   0   1   0   0   0   1   1   0   0   0   1   1   0   0   0   1   1   1   1   0   1   1   1   0   0   0   0   0   1   1   0   1   1   0   0   0   0   1   0   0   1   0   0   1   1   1   1   1   1   1   1   1   0   0   0   1   0   0   0   1   0   1   0   1   1   1   0   1   1   0   0   0   1   0   0   1   0   0   0   0   0   0   1   1   0   0   1   1   0   0   1   1   1   1   0   1   1   1   0   0   0   0   0   1   1   0   0   0   0   1   1   0   0   0   0   0   0   1   1   1   1   0   0   1   1   0   0   1   1   1   0   0   0   0   1   1   0   1   0   1   0   1   0   1   0   0   0   1   1   1   0   1   0   0   0   1   0   1   1   1   0   1   1   0   0   0   0   1   0   0   1   1   1   0   0   0   0   0   0   0   0   0   0   1   1   1   1   1   0   0   1   0   1   0   1   0   1   1   0   1   1   1   0   0   0   1   0   0   1   0   0   1   0   1   0   1   1   0   0   1   0   0   1   1   0   1   0   1   0   0   0   0   1   0   1   0   0   1   0   0   1   0   1   0   1   0   1   1   0   1   0   1   0   0   0   1   1   0   0   1   0   0   0   1   0   0   1   1   1   0   0   0   0   1   1   0   0   1   0   1   1   1   1   1   1   1   0   0   0   1   1   0   0   1   1   1   0   1   1   1   0   1   1   1   1   1   0   0   1   1   0   1   1   0   1   1   1   1   0   0   0   0   1   0   1   0   1   1   0   0   1   0   1   1   0   0   0   0   1   1   1   1   0   0   0   0   1   0   0   0   1   1   0   1   1   0   0   0   0   0   0   0   1   1   1   0   0   1   0   0   0   0   1   1   0   1   0   0   0   0   0   1   0   0   1   0   1   1   0   0   1   1   0   1   0   0   1   1   1   0   1   0   0   0   0   1   1   0   0   0   1   0   0   1   0   1   1   0   0   0   0   1   1   1   1   1   1   0   1   0   0   1   0   1   0   1   1   1   0   1   1   0   1   1   1   0   1   0   0   1   1   0   0   1   1   1   0   0   0   0   0   0   0   1   0   0   0   1   1   1   0   1   1   0   0   1   0   1   0   0   1   0   0   0   0   1   1   1   1   1   1   1   0   0   1   0   0   1   0   1   0   0   0   0   0   1   0   0   0   0   0   1   0   0   0   1   1   0   1   0   1   0   0   0   0   0   0   0   1   0   0   0   1   1   0   1   1   0   0   1   1   1   1   0   1   1   0   0   0   0   1   1   0   0   0   "
     ]
    }
   ],
   "source": [
    "def mine(num):\n",
    "    if num > 0:\n",
    "        return 1\n",
    "    else:\n",
    "        return 0\n",
    "from random import *\n",
    "class perceptron():\n",
    "    def __init__(self):\n",
    "        self.weight =[]\n",
    "    def leng(self,l):\n",
    "        for i in range(l):\n",
    "            self.weight.append((randint(-1,1)))\n",
    "    def sum(self,inp):\n",
    "        add = 0\n",
    "        for i in range(len(self.weight)):\n",
    "            add +=self.weight[i]*inp[i]\n",
    "        return mine(add)\n",
    "\n",
    "\n",
    "for i in range(1000):\n",
    "    a = perceptron()\n",
    "    w=[randint(0,100) for i in range(4)]\n",
    "    a.leng(4)\n",
    "    print(a.sum(w),end = \"   \")\n",
    "    \n",
    "\n"
   ]
  },
  {
   "cell_type": "code",
   "execution_count": 47,
   "metadata": {},
   "outputs": [
    {
     "name": "stdout",
     "output_type": "stream",
     "text": [
      "[33]\n"
     ]
    }
   ],
   "source": [
    "class sd():\n",
    "    def __init__(self):\n",
    "        self.v = []\n",
    "    def ad(self):\n",
    "        self.v.append(33)\n",
    "    def p(self):\n",
    "        print(self.v)\n",
    "a = sd()\n",
    "a.ad()\n",
    "a.p()"
   ]
  },
  {
   "cell_type": "code",
   "execution_count": null,
   "metadata": {},
   "outputs": [],
   "source": []
  }
 ],
 "metadata": {
  "kernelspec": {
   "display_name": "Python 3",
   "language": "python",
   "name": "python3"
  },
  "language_info": {
   "codemirror_mode": {
    "name": "ipython",
    "version": 3
   },
   "file_extension": ".py",
   "mimetype": "text/x-python",
   "name": "python",
   "nbconvert_exporter": "python",
   "pygments_lexer": "ipython3",
   "version": "3.6.5"
  }
 },
 "nbformat": 4,
 "nbformat_minor": 2
}

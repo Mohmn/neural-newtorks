{
 "cells": [
  {
   "cell_type": "code",
   "execution_count": 1,
   "metadata": {},
   "outputs": [],
   "source": [
    "import numpy as np\n",
    "import matplotlib.pyplot as plt\n",
    "from PIL import Image as img"
   ]
  },
  {
   "cell_type": "code",
   "execution_count": 217,
   "metadata": {},
   "outputs": [],
   "source": [
    "def conv(imag,filt,stride,pad):\n",
    "\n",
    "    cnv_1 = ((imag.shape[0] + 2*pad) - filt.shape[0])//stride + 1\n",
    "    cnv_2 = ((imag.shape[1] + 2*pad) - filt.shape[1])//stride + 1\n",
    "    \n",
    "    b = np.zeros((filt.shape[0]*filt.shape[1],cnv_1*cnv_2),dtype=\"float32\")\n",
    "    \n",
    "    z=0\n",
    "    \n",
    "    for i in range(cnv_1):\n",
    "        v_start = i * stride\n",
    "        v_end = v_start + filt.shape[0]\n",
    "        for j in range(cnv_2):\n",
    "\n",
    "            \n",
    "            h_start = j * stride\n",
    "            h_end = h_start + filt.shape[1]\n",
    "            \n",
    "            b[:,z] = imag[v_start:v_end,h_start:h_end].flatten()\n",
    "            \n",
    "            z+=1\n",
    "    b=np.dot(np.reshape(filt,(filt.shape[0]*filt.shape[1],1)).T,b)\n",
    "    \n",
    "    return np.reshape(b,(cnv_1,cnv_2)) \n",
    "\n",
    "\n",
    "\n",
    "def max_pool(imag,stride,filt):\n",
    "    \n",
    "    cnv_1 = (imag.shape[0] - filt[0])//stride + 1\n",
    "    cnv_2 = (imag.shape[1] - filt[1])//stride + 1\n",
    "    \n",
    "    pool = np.zeros((filt[0]*filt[1],cnv_1*cnv_2),dtype=\"float16\")\n",
    "    \n",
    "    z=0\n",
    "    for i in range(cnv_1):\n",
    "        for j in range(cnv_2):\n",
    "            v_start = i * stride\n",
    "            v_end = v_start + filt[0]\n",
    "            \n",
    "            h_start = j * stride\n",
    "            h_end = h_start + filt[1]\n",
    "            \n",
    "            pool[:,z] = imag[v_start:v_end,h_start:h_end].flatten()\n",
    "            #print(imag[v_start:v_end,h_start:h_end].flatten())\n",
    "            z+=1\n",
    "    pool = np.max(pool,axis=0,keepdims=True)\n",
    "    #print(pool.shape)\n",
    "    return np.reshape(pool,(cnv_1,cnv_2))\n",
    "\n",
    "\n",
    "def D_max_pool(imag,stride,filt,d):\n",
    "    \n",
    "    cnv_1 = (imag.shape[0] - filt[0])//stride + 1\n",
    "    cnv_2 = (imag.shape[1] - filt[1])//stride + 1\n",
    "    \n",
    "    #pool = np.zeros((filt[0]*filt[1],cnv_1*cnv_2),dtype=\"float32\")\n",
    "    der = np.zeros((imag.shape[0],imag.shape[1]),dtype=\"float32\")\n",
    "    z=0\n",
    "    for i in range(cnv_1):\n",
    "        for j in range(cnv_2):\n",
    "            v_start = i * stride\n",
    "            v_end = v_start + filt[0]\n",
    "            \n",
    "            h_start = j * stride\n",
    "            h_end = h_start + filt[1]\n",
    "            \n",
    "            maxx  = imag[v_start:v_end,h_start:h_end]\n",
    "            #print(imag[v_start:v_end,h_start:h_end].flatten())\n",
    "            #print(maxx, np.where(maxx == np.max(maxx),1,0))\n",
    "            m = maxx == np.max(maxx)\n",
    "            der[v_start:v_end,h_start:h_end] += m * d[i,j]\n",
    "            #print(i,j,z,v_start, v_end,h_start ,h_end)\n",
    "           # print(np.multiply(np.where(maxx == np.max(maxx),1,0),d[i,j]),\"\\n\")\n",
    "            z+=1\n",
    "    return der"
   ]
  },
  {
   "cell_type": "code",
   "execution_count": 218,
   "metadata": {},
   "outputs": [],
   "source": [
    "def relu(mat):\n",
    "    return(np.multiply(mat,np.where(mat>=0,1,0)))\n",
    "\n",
    "def sigmoid(Z):\n",
    "    return 1/(1+np.exp(-Z))\n",
    "\n",
    "def sigmoid_backward(A):\n",
    "    da = sigmoid(A)\n",
    "    return da*(1-da)\n",
    "def relu_backward(A):\n",
    "    return np.where(A>=0,1,0)\n",
    "\n"
   ]
  },
  {
   "cell_type": "code",
   "execution_count": 219,
   "metadata": {},
   "outputs": [],
   "source": [
    "def compute_cost(AL,Y):\n",
    "\n",
    "    m =Y.shape[1]\n",
    "    \n",
    "    cost = np.sum(np.multiply(Y,np.log(AL)),axis=1,keepdims=True) + np.sum(np.multiply(1-Y,np.log(1-AL)),axis=1,keepdims=True)\n",
    "    cost=np.sum(cost)\n",
    "    cost = cost/-m  \n",
    "    \n",
    "    cost = np.squeeze(cost) #(will turn [[13]] -> 13)\n",
    "    \n",
    "    assert(cost.shape == ())\n",
    "    return cost"
   ]
  },
  {
   "cell_type": "code",
   "execution_count": 220,
   "metadata": {},
   "outputs": [
    {
     "name": "stdout",
     "output_type": "stream",
     "text": [
      "(250, 250)\n"
     ]
    }
   ],
   "source": [
    "im = img.open(\"dog.jpg\")\n",
    "im = im.resize((250,250))\n",
    "im = im.convert(\"L\")\n",
    "\n",
    "im = np.array(im)\n",
    "print(im.shape)"
   ]
  },
  {
   "cell_type": "code",
   "execution_count": 221,
   "metadata": {},
   "outputs": [],
   "source": [
    "#fil = np.array(([1,1,1],[0,0,0],[-1,-1,-1])).T\n",
    "W1 = np.random.rand(3,3)*0.01\n",
    "W2 =  np.random.rand(3,3)*0.01\n",
    "W3 = np.random.rand(1,3364)*0.01\n"
   ]
  },
  {
   "cell_type": "code",
   "execution_count": 222,
   "metadata": {},
   "outputs": [
    {
     "name": "stdout",
     "output_type": "stream",
     "text": [
      "[[1.]] (1, 1)\n"
     ]
    }
   ],
   "source": [
    "y=np.ones((1,1))\n",
    "print(y,y.shape)"
   ]
  },
  {
   "cell_type": "code",
   "execution_count": 223,
   "metadata": {},
   "outputs": [
    {
     "name": "stdout",
     "output_type": "stream",
     "text": [
      "[0.005208317883380111]\n"
     ]
    }
   ],
   "source": [
    "costs = []\n",
    "Z1 = conv(im,W1,2,0)\n",
    "A1 = relu(Z1)\n",
    "P1 = max_pool(A1,1,(3,3))\n",
    "Z2 = conv(P1,W2,2,0)\n",
    "A2 = relu(Z2)\n",
    "P2 = max_pool(A2,1,(3,3))\n",
    "f_c = np.reshape(P2,(P2.shape[0]*P2.shape[1],1))\n",
    "Z3 = np.dot(W3,f_c)\n",
    "A3 = sigmoid(Z3)\n",
    "cost=compute_cost(A3,y)\n",
    "costs.append(cost)\n",
    "print(costs)         \n",
    "                \n"
   ]
  },
  {
   "cell_type": "code",
   "execution_count": 234,
   "metadata": {},
   "outputs": [
    {
     "name": "stdout",
     "output_type": "stream",
     "text": [
      "(122, 122) (3, 3) (58, 58)\n"
     ]
    }
   ],
   "source": [
    "print(P1.shape,W2.shape,P2.shape)"
   ]
  },
  {
   "cell_type": "code",
   "execution_count": 231,
   "metadata": {},
   "outputs": [
    {
     "name": "stdout",
     "output_type": "stream",
     "text": [
      "(58, 58) (58, 58) (3364, 1)\n",
      "(32, 32) (3, 3) (122, 122) (60, 60) (250, 250) (124, 124)\n"
     ]
    }
   ],
   "source": [
    "dZ3 = A3 - y\n",
    "dW3 = np.dot(dZ3,f_c.T)\n",
    "dF_c = np.dot(W3.T,dZ3)\n",
    "dF_c = np.reshape(dF_c,(P2.shape[0],P2.shape[1]))\n",
    "print(dF_c.shape,P2.shape,f_c.shape)\n",
    "dA2 = D_max_pool(A2,1,(3,3),dF_c)\n",
    "dZ2 = np.multiply(dA2,relu_backward(Z2))\n",
    "dW2 = conv(P1,dZ2,2,0)\n",
    "print(dW2.shape,W2.shape,P1.shape,dZ2.shape,im.shape,Z1.shape)"
   ]
  },
  {
   "cell_type": "code",
   "execution_count": 92,
   "metadata": {},
   "outputs": [
    {
     "data": {
      "text/plain": [
       "<matplotlib.image.AxesImage at 0x92d00b1278>"
      ]
     },
     "execution_count": 92,
     "metadata": {},
     "output_type": "execute_result"
    },
    {
     "data": {
      "image/png": "[encoded data removed]",
      "text/plain": [
       "<Figure size 432x288 with 1 Axes>"
      ]
     },
     "metadata": {},
     "output_type": "display_data"
    }
   ],
   "source": [
    "plt.imshow(P2)"
   ]
  },
  {
   "cell_type": "markdown",
   "metadata": {},
   "source": [
    "CONV2D -> RELU -> MAXPOOL -> CONV2D -> RELU -> MAXPOOL -> FLATTEN -> FULLYCONNECTED"
   ]
  },
  {
   "cell_type": "code",
   "execution_count": 93,
   "metadata": {},
   "outputs": [
    {
     "name": "stdout",
     "output_type": "stream",
     "text": [
      "(1, 1) [[0.99888203]] 0.0011185907880314036\n"
     ]
    }
   ],
   "source": [
    "print(A3.shape,A3,cost)"
   ]
  },
  {
   "cell_type": "code",
   "execution_count": 103,
   "metadata": {},
   "outputs": [],
   "source": [
    "fo = np.array(([1,1,0,1],[1,0,1,1],[0,1,1,1],[1,1,1,0]))\n",
    "fil=np.random.randint(4,size=(2,2))"
   ]
  },
  {
   "cell_type": "code",
   "execution_count": 104,
   "metadata": {},
   "outputs": [
    {
     "name": "stdout",
     "output_type": "stream",
     "text": [
      "[[1 1 0 1]\n",
      " [1 0 1 1]\n",
      " [0 1 1 1]\n",
      " [1 1 1 0]]\n",
      "[[2 3]\n",
      " [3 3]]\n"
     ]
    }
   ],
   "source": [
    "print(fo)\n",
    "print(fil)"
   ]
  },
  {
   "cell_type": "code",
   "execution_count": 105,
   "metadata": {},
   "outputs": [
    {
     "ename": "ValueError",
     "evalue": "operands could not be broadcast together with shapes (4,4) (2,2) ",
     "output_type": "error",
     "traceback": [
      "\u001b[1;31m---------------------------------------------------------------------------\u001b[0m",
      "\u001b[1;31mValueError\u001b[0m                                Traceback (most recent call last)",
      "\u001b[1;32m<ipython-input-105-a1b170c2123e>\u001b[0m in \u001b[0;36m<module>\u001b[1;34m()\u001b[0m\n\u001b[1;32m----> 1\u001b[1;33m \u001b[0mprint\u001b[0m\u001b[1;33m(\u001b[0m\u001b[0mfo\u001b[0m\u001b[1;33m*\u001b[0m\u001b[0mfil\u001b[0m\u001b[1;33m)\u001b[0m\u001b[1;33m\u001b[0m\u001b[0m\n\u001b[0m",
      "\u001b[1;31mValueError\u001b[0m: operands could not be broadcast together with shapes (4,4) (2,2) "
     ]
    }
   ],
   "source": [
    "print(fo*fil)"
   ]
  },
  {
   "cell_type": "code",
   "execution_count": 155,
   "metadata": {},
   "outputs": [
    {
     "name": "stdout",
     "output_type": "stream",
     "text": [
      "[[24 21 19  0  5]\n",
      " [19 20 13 16 25]\n",
      " [21  2  8  4 27]\n",
      " [25  4 11 28  7]\n",
      " [13 29  8 12 14]]\n"
     ]
    }
   ],
   "source": [
    "#a=np.array(([1,2,-3,3],[3,4,9,-9],[0,3,2,1],[-1,2,6,7]))\n",
    "a=np.random.randint(30,size=(5,5))\n",
    "print(a)"
   ]
  },
  {
   "cell_type": "code",
   "execution_count": 156,
   "metadata": {},
   "outputs": [
    {
     "name": "stdout",
     "output_type": "stream",
     "text": [
      "[[24 21 19  0  5]\n",
      " [19 20 13 16 25]\n",
      " [21  2  8  4 27]\n",
      " [25  4 11 28  7]\n",
      " [13 29  8 12 14]]\n"
     ]
    }
   ],
   "source": [
    "print(relu(a))"
   ]
  },
  {
   "cell_type": "code",
   "execution_count": 165,
   "metadata": {},
   "outputs": [
    {
     "name": "stdout",
     "output_type": "stream",
     "text": [
      "[[24. 21. 19. 25.]\n",
      " [21. 20. 16. 27.]\n",
      " [25. 11. 28. 28.]\n",
      " [29. 29. 28. 28.]]\n"
     ]
    }
   ],
   "source": [
    "f=max_pool(relu(a),1,(2,2))\n",
    "print(f)"
   ]
  },
  {
   "cell_type": "code",
   "execution_count": 196,
   "metadata": {},
   "outputs": [
    {
     "name": "stdout",
     "output_type": "stream",
     "text": [
      "[[ 24.  21.  19.   0.   0.]\n",
      " [  0.  20.   0.  16.  25.]\n",
      " [ 21.   0.   0.   0.  27.]\n",
      " [ 25.   0.  11. 112.   0.]\n",
      " [  0.  58.   0.   0.   0.]]\n",
      "None\n"
     ]
    }
   ],
   "source": [
    "print(D_max_pool(relu(a),1,(2,2),f))"
   ]
  },
  {
   "cell_type": "code",
   "execution_count": 192,
   "metadata": {},
   "outputs": [
    {
     "name": "stdout",
     "output_type": "stream",
     "text": [
      "1.0\n"
     ]
    }
   ],
   "source": [
    "print(2828)"
   ]
  },
  {
   "cell_type": "code",
   "execution_count": null,
   "metadata": {},
   "outputs": [],
   "source": []
  },
  {
   "cell_type": "code",
   "execution_count": null,
   "metadata": {},
   "outputs": [],
   "source": [
    "#                 \n",
    "# Z1 = conv(im,W1,2,0)\n",
    "# A1 = relu(Z1)\n",
    "# P1 = max_pool(A1,1,W1)\n",
    "# Z2 = conv(P1,W2,2,0)\n",
    "# A2 = relu(Z2)\n",
    "# P2 = max_pool(A2,1,W2)\n",
    "# f_c = np.reshape(P2,(P2.shape[0]*P2.shape[1],1))\n",
    "# Z3 = np.dot(W3,f_c)\n",
    "# A3 = sigmoid(Z3)\n",
    "# cost=compute_cost(A3,y)\n",
    "# costs.append(cost)\n",
    "# dZ3"
   ]
  }
 ],
 "metadata": {
  "kernelspec": {
   "display_name": "Python 3",
   "language": "python",
   "name": "python3"
  },
  "language_info": {
   "codemirror_mode": {
    "name": "ipython",
    "version": 3
   },
   "file_extension": ".py",
   "mimetype": "text/x-python",
   "name": "python",
   "nbconvert_exporter": "python",
   "pygments_lexer": "ipython3",
   "version": "3.6.5"
  }
 },
 "nbformat": 4,
 "nbformat_minor": 2
}

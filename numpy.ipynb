{
 "cells": [
  {
   "cell_type": "code",
   "execution_count": 1,
   "metadata": {},
   "outputs": [
    {
     "name": "stdout",
     "output_type": "stream",
     "text": [
      "[[ 32  33 222]\n",
      " [  1  22   4]]\n",
      "(2, 1)\n",
      "[[0.11149826 0.11498258 0.77351916]\n",
      " [0.03703704 0.81481481 0.14814815]]\n"
     ]
    }
   ],
   "source": [
    "import numpy as np\n",
    "a = np.array([[32,33,222],[1,22,4]])\n",
    "#\n",
    "print(a)\n",
    "b=np.sum(a,axis=1,keepdims = True)\n",
    "\n",
    "print(b.shape)\n",
    "print(a/b)"
   ]
  },
  {
   "cell_type": "code",
   "execution_count": 62,
   "metadata": {},
   "outputs": [
    {
     "name": "stdout",
     "output_type": "stream",
     "text": [
      "[[ 1  4  7 10 13 16 19 22 25 28]\n",
      " [ 2  5  8 11 14 17 20 23 26 29]\n",
      " [ 3  6  9 12 15 18 21 24 27 30]]\n",
      "[[10 13 16]\n",
      " [11 14 17]\n",
      " [12 15 18]]\n"
     ]
    }
   ],
   "source": [
    "a = np.array(([1,2,3],[4,5,6],[7,8,9],[10,11,12],[13,14,15],[16,17,18],[19,20,21],[22,23,24],[25,26,27],[28,29,30]))\n",
    "a=a.T\n",
    "print(a)\n",
    "print(a[0:,3:6])"
   ]
  },
  {
   "cell_type": "code",
   "execution_count": 92,
   "metadata": {},
   "outputs": [
    {
     "name": "stdout",
     "output_type": "stream",
     "text": [
      "[[ 1  4  7 10 13 16 19 22 25]\n",
      " [ 2  5  8 11 14 17 20 23 26]\n",
      " [ 3  6  9 12 15 18 21 24 27]]\n",
      "[[28]\n",
      " [29]\n",
      " [30]]\n",
      "(3, 10) 1\n"
     ]
    }
   ],
   "source": [
    "m = a.shape[1]\n",
    "c = 9\n",
    "n=0\n",
    "for i in range(10//c):\n",
    "    \n",
    "    print(a[0:,(i*c):(i+1)*c])\n",
    "    \n",
    "   \n",
    "print(a[0:,c*(10//c):m])\n",
    "    \n",
    "print(a.shape,(m-(c*(10//c)) ))"
   ]
  },
  {
   "cell_type": "code",
   "execution_count": 94,
   "metadata": {},
   "outputs": [
    {
     "name": "stdout",
     "output_type": "stream",
     "text": [
      "[[1.         2.         2.64575131 3.16227766 3.60555128 4.\n",
      "  4.35889894 4.69041576 5.         5.29150262]\n",
      " [1.41421356 2.23606798 2.82842712 3.31662479 3.74165739 4.12310563\n",
      "  4.47213595 4.79583152 5.09901951 5.38516481]\n",
      " [1.73205081 2.44948974 3.         3.46410162 3.87298335 4.24264069\n",
      "  4.58257569 4.89897949 5.19615242 5.47722558]]\n"
     ]
    }
   ],
   "source": [
    "print(np.sqrt(a))"
   ]
  },
  {
   "cell_type": "code",
   "execution_count": 4,
   "metadata": {},
   "outputs": [
    {
     "name": "stdout",
     "output_type": "stream",
     "text": [
      "[[[0.67826139 0.29380381]\n",
      "  [0.90714982 0.52835647]\n",
      "  [0.4215251  0.45017551]]\n",
      "\n",
      " [[0.92814219 0.96677647]\n",
      "  [0.85304703 0.52351845]\n",
      "  [0.19981397 0.27417313]]\n",
      "\n",
      " [[0.60659855 0.00533165]\n",
      "  [0.10820313 0.49978937]\n",
      "  [0.34144279 0.94630077]]]\n",
      "(3, 3, 2)\n"
     ]
    }
   ],
   "source": [
    "import numpy as np\n",
    "image = np.array([[[ 0.67826139,  0.29380381],\n",
    "        [ 0.90714982,  0.52835647],\n",
    "        [ 0.4215251 ,  0.45017551]],\n",
    "\n",
    "       [[ 0.92814219,  0.96677647],\n",
    "        [ 0.85304703,  0.52351845],\n",
    "        [ 0.19981397,  0.27417313]],\n",
    "\n",
    "       [[ 0.60659855,  0.00533165],\n",
    "        [ 0.10820313,  0.49978937],\n",
    "        [ 0.34144279,  0.94630077]]])\n",
    "print(image)\n",
    "print(image.shape)"
   ]
  },
  {
   "cell_type": "code",
   "execution_count": 36,
   "metadata": {},
   "outputs": [
    {
     "name": "stdout",
     "output_type": "stream",
     "text": [
      "[0 0 0 1 0]\n"
     ]
    }
   ],
   "source": [
    "a=np.array([1,0.7,0.5,0.4,0.5])\n",
    "b = np.where(a>=0.5,0,1)\n",
    "print(b)"
   ]
  },
  {
   "cell_type": "code",
   "execution_count": null,
   "metadata": {},
   "outputs": [],
   "source": []
  }
 ],
 "metadata": {
  "kernelspec": {
   "display_name": "Python 3",
   "language": "python",
   "name": "python3"
  },
  "language_info": {
   "codemirror_mode": {
    "name": "ipython",
    "version": 3
   },
   "file_extension": ".py",
   "mimetype": "text/x-python",
   "name": "python",
   "nbconvert_exporter": "python",
   "pygments_lexer": "ipython3",
   "version": "3.6.5"
  }
 },
 "nbformat": 4,
 "nbformat_minor": 2
}
